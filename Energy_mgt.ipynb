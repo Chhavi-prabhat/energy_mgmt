{
  "nbformat": 4,
  "nbformat_minor": 0,
  "metadata": {
    "colab": {
      "provenance": []
    },
    "kernelspec": {
      "name": "python3",
      "display_name": "Python 3"
    },
    "language_info": {
      "name": "python"
    }
  },
  "cells": [
    {
      "cell_type": "code",
      "execution_count": null,
      "metadata": {
        "colab": {
          "base_uri": "https://localhost:8080/"
        },
        "id": "Canda9HFvhls",
        "outputId": "9454af3e-bf56-453c-f57a-002cd9ba13c0"
      },
      "outputs": [
        {
          "output_type": "stream",
          "name": "stdout",
          "text": [
            "Accuracy: 99.75%\n",
            "Enter the overall house consumption[kW]: 44\n",
            "Enter the Dishwasher consumption[kW]: 23\n",
            "Enter the Furnace consumption[kW]: 22\n",
            "Enter the temperature : 22\n",
            "Enter the Fridge consumption[kW]: 22\n",
            "Enter the Kitchen consumption[kW]: 22\n",
            "Enter the Microwave consumption[kW]: 22\n",
            "Enter the Living room consumption[kW]: 25\n",
            "The Applications are Very Inefficient..\n"
          ]
        },
        {
          "output_type": "stream",
          "name": "stderr",
          "text": [
            "/usr/local/lib/python3.10/dist-packages/sklearn/base.py:493: UserWarning: X does not have valid feature names, but RandomForestClassifier was fitted with feature names\n",
            "  warnings.warn(\n"
          ]
        }
      ],
      "source": [
        "import pandas as pd\n",
        "import seaborn as sns\n",
        "from sklearn.model_selection import train_test_split\n",
        "from sklearn.ensemble import RandomForestClassifier\n",
        "from sklearn.metrics import accuracy_score, classification_report\n",
        "\n",
        "# Load dataset and sample 4000 rows\n",
        "dt = pd.read_csv('HomeC.csv', usecols=['House overall [kW]', 'Dishwasher [kW]',\n",
        "                                       'Furnace 1 [kW]','temperature', 'Fridge [kW]',\n",
        "                                       'Kitchen 38 [kW]', 'Microwave [kW]',\n",
        "                                       'Living room [kW]'])\n",
        "dt_set = dt.sample(n=4000, replace =False)\n",
        "# print(dt_set)\n",
        "\n",
        "#Setting threshold values\n",
        "thresholds={\n",
        "    'House overall [kW]':[0,1,2,3],\n",
        "    'Dishwasher [kW]': [0.1, 0.5,0.9,1],\n",
        "    'Furnace 1 [kW]' : [0.09,0.5,0.7,1],\n",
        "    'temperature':[10,20,30,40],\n",
        "    'Fridge [kW]':[0.09,0.5,0.7,1],\n",
        "    'Kitchen 38 [kW]':[0.09,0.5,0.7,0.8],\n",
        "    'Microwave [kW]':[0.01,0.05,0.09,0.5],\n",
        "    'Living room [kW]':[0.1,0.3,0.5,0.6],\n",
        "}\n",
        "\n",
        "#Function for efficiency column\n",
        "def assign_efficiency_label(row, column, thresholds):\n",
        "  if row[column]<= thresholds[0]:\n",
        "    return 0 # VERY EFFICIENT\n",
        "  elif row[column] <= thresholds[1]:\n",
        "    return 1 #EFFICIENT\n",
        "  elif row[column] <= thresholds[2]:\n",
        "    return 2 # MODERATE INEFFICIENT\n",
        "  elif row[column] <= thresholds[3]:\n",
        "    return 3 # INEFFICIENT\n",
        "  else:\n",
        "    return 4 # VERY INEFFICIENT\n",
        "\n",
        "#Creation of efficiency column\n",
        "dt_set['efficiency']= dt_set.apply(\n",
        "    lambda row: max(\n",
        "        assign_efficiency_label(row, 'House overall [kW]',thresholds['House overall [kW]']),\n",
        "        assign_efficiency_label(row, 'Dishwasher [kW]',thresholds['Dishwasher [kW]']),\n",
        "        assign_efficiency_label(row, 'Furnace 1 [kW]',thresholds['Furnace 1 [kW]']),\n",
        "        assign_efficiency_label(row, 'temperature',thresholds['temperature']),\n",
        "        assign_efficiency_label(row, 'Fridge [kW]',thresholds['Fridge [kW]']),\n",
        "        assign_efficiency_label(row, 'Kitchen 38 [kW]',thresholds['Kitchen 38 [kW]']),\n",
        "        assign_efficiency_label(row, 'Microwave [kW]',thresholds['Microwave [kW]']),\n",
        "        assign_efficiency_label(row, 'Living room [kW]',thresholds['Living room [kW]']),\n",
        "    ), axis=1\n",
        ")\n",
        "# print(dt_set)\n",
        "\n",
        "#Splitting\n",
        "X=dt_set.drop(columns=['efficiency'])\n",
        "y=dt_set['efficiency']\n",
        "\n",
        "#Train, test, split\n",
        "X_train,X_test,y_train,y_test=train_test_split(X,y,test_size=0.2)\n",
        "\n",
        "#Classifier\n",
        "rfc=RandomForestClassifier(random_state=42)\n",
        "rfc.fit(X_train,y_train)\n",
        "y_pred=rfc.predict(X_test)\n",
        "\n",
        "#Accuracy\n",
        "accuracy = accuracy_score(y_test, y_pred)\n",
        "print(f'Accuracy: {accuracy * 100:.2f}%')\n",
        "\n",
        "#User input\n",
        "house_overall=float(input(\"Enter the overall house consumption[kW]: \"))\n",
        "Dishwasher=float(input(\"Enter the Dishwasher consumption[kW]: \"))\n",
        "Furnace=float(input(\"Enter the Furnace consumption[kW]: \"))\n",
        "temperature=float(input(\"Enter the temperature : \"))\n",
        "Fridge=float(input(\"Enter the Fridge consumption[kW]: \"))\n",
        "Kitchen=float(input(\"Enter the Kitchen consumption[kW]: \"))\n",
        "Microwave=float(input(\"Enter the Microwave consumption[kW]: \"))\n",
        "living_room=float(input(\"Enter the Living room consumption[kW]: \"))\n",
        "user_inp=[[house_overall,Dishwasher,Furnace,temperature,Fridge,Kitchen,Microwave,living_room]]\n",
        "prediction=rfc.predict(user_inp)\n",
        "# print(prediction[0])\n",
        "\n",
        "#Output Modification\n",
        "if prediction[0]==0:\n",
        "  print(\"The Applications are Very Efficient..\")\n",
        "elif prediction[0]==1:\n",
        "  print(\"The Applications are Efficient..\")\n",
        "elif prediction[0]==2:\n",
        "  print(\"The Applications are Moderate Inefficient.. \")\n",
        "elif prediction[0]==3:\n",
        "  print(\"The Applications are Inefficient..\")\n",
        "else:\n",
        "  print(\"The Applications are Very Inefficient..\")"
      ]
    },
    {
      "cell_type": "code",
      "source": [
        "import pandas as pd\n",
        "from sklearn.model_selection import train_test_split\n",
        "from sklearn.multioutput import MultiOutputRegressor\n",
        "from sklearn.linear_model import LinearRegression\n",
        "from sklearn.metrics import mean_squared_error\n",
        "\n",
        "ds = pd.read_csv('electricity_bill_dataset.csv', usecols=['Fan', 'Refrigerator', 'AirConditioner', 'Television', 'MonthlyHours', 'ElectricityBill'])\n",
        "# print(ds.sample(6))\n",
        "\n",
        "x = ds[['Fan', 'Refrigerator', 'AirConditioner', 'Television']]\n",
        "y = ds[['MonthlyHours', 'ElectricityBill']]\n",
        "\n",
        "X_train, X_test, y_train, y_test = train_test_split(x, y, test_size=0.2, random_state=42)\n",
        "model = MultiOutputRegressor(LinearRegression())\n",
        "model.fit(X_train, y_train)\n",
        "y_pred = model.predict(X_test)\n",
        "fan=float(input(\"Enter fan number: \"))\n",
        "refri=float(input(\"Enter refrigerator number: \"))\n",
        "ac=float(input(\"Enter air conditioner number: \"))\n",
        "tel=float(input(\"Enter telivision number: \"))\n",
        "user_input=[[fan,refri,ac,tel]]\n",
        "predictions=model.predict(user_input)\n",
        "# print(predictions)\n",
        "print(f\"Predicted Monthly Hours: {predictions[0][0]:.2f}\")\n",
        "print(f\"Predicted Electricity Bill: {predictions[0][1]:.2f}\")\n",
        "# Calculate and print Mean Squared Error for each target variable\n",
        "mse = mean_squared_error(y_test, y_pred, multioutput='raw_values')\n",
        "print(f'MSE for MonthlyHours: {mse[0]:.2f}')\n",
        "print(f'MSE for ElectricityBill: {mse[1]:.2f}')\n"
      ],
      "metadata": {
        "id": "kNrJxR02wNIs",
        "colab": {
          "base_uri": "https://localhost:8080/"
        },
        "outputId": "3d4565ed-77e5-486b-86aa-6752048b1d43"
      },
      "execution_count": null,
      "outputs": [
        {
          "output_type": "stream",
          "name": "stdout",
          "text": [
            "Enter fan number: 5\n",
            "Enter refrigerator number: 1\n",
            "Enter air conditioner number: 0\n",
            "Enter telivision number: 1\n",
            "Predicted Monthly Hours: -26.05\n",
            "Predicted Electricity Bill: -220.00\n",
            "MSE for MonthlyHours: 7897.36\n",
            "MSE for ElectricityBill: 651427.44\n"
          ]
        },
        {
          "output_type": "stream",
          "name": "stderr",
          "text": [
            "/usr/local/lib/python3.10/dist-packages/sklearn/base.py:493: UserWarning: X does not have valid feature names, but LinearRegression was fitted with feature names\n",
            "  warnings.warn(\n",
            "/usr/local/lib/python3.10/dist-packages/sklearn/base.py:493: UserWarning: X does not have valid feature names, but LinearRegression was fitted with feature names\n",
            "  warnings.warn(\n"
          ]
        }
      ]
    },
    {
      "cell_type": "code",
      "source": [
        "import pandas as pd\n",
        "from sklearn.model_selection import train_test_split\n",
        "from sklearn.linear_model import LinearRegression\n",
        "from sklearn.metrics import accuracy_score\n",
        "\n",
        "data_set=pd.read_csv('Household energy bill data.csv', usecols=['num_rooms', 'num_people', 'is_ac','is_tv','is_flat','num_children','amount_paid'])\n",
        "x=data_set[['num_rooms', 'num_people', 'is_ac', 'is_tv', 'is_flat', 'num_children']]\n",
        "y=data_set['amount_paid']\n",
        "X_train,X_test, y_train,y_test=train_test_split(x,y,test_size=0.2)\n",
        "model=LinearRegression().fit(X_train,y_train)\n",
        "y_pred=model.predict(X_test)\n",
        "rooms=int(input(\"Enter total rooms in your house: \"))\n",
        "people=int(input(\"Enter total number of family members: \"))\n",
        "ac=int(input(\"Is there any AC in your home? \"))\n",
        "tv=int(input(\"Is there any television present in your home? \"))\n",
        "flat=int(input(\"Do you live in flat?\"))\n",
        "child=int(input(\"Enter total number of children: \"))\n",
        "user_entry=[[rooms,people,ac,tv,flat,child]]\n",
        "final_pred=model.predict(user_entry)\n",
        "# accuracy = accuracy_score(y_test, final_pred)\n",
        "# print(f'Accuracy: {accuracy * 100:.2f}%')\n",
        "print(final_pred)"
      ],
      "metadata": {
        "colab": {
          "base_uri": "https://localhost:8080/",
          "height": 515
        },
        "id": "1wKQcyqLVpPr",
        "outputId": "9037bfdc-1d1d-4d87-ca44-9cd1fe5b1600"
      },
      "execution_count": null,
      "outputs": [
        {
          "name": "stdout",
          "output_type": "stream",
          "text": [
            "Enter total rooms in your house: 2\n",
            "Enter total number of family members: 4\n",
            "Is there any AC in your home? 1\n",
            "Is there any television present in your home? 1\n",
            "Do you live in flat?1\n",
            "Enter total number of children: 2\n"
          ]
        },
        {
          "output_type": "stream",
          "name": "stderr",
          "text": [
            "/usr/local/lib/python3.10/dist-packages/sklearn/base.py:493: UserWarning: X does not have valid feature names, but LinearRegression was fitted with feature names\n",
            "  warnings.warn(\n"
          ]
        },
        {
          "output_type": "error",
          "ename": "ValueError",
          "evalue": "Found input variables with inconsistent numbers of samples: [200, 1]",
          "traceback": [
            "\u001b[0;31m---------------------------------------------------------------------------\u001b[0m",
            "\u001b[0;31mValueError\u001b[0m                                Traceback (most recent call last)",
            "\u001b[0;32m<ipython-input-19-a298b1da0610>\u001b[0m in \u001b[0;36m<cell line: 20>\u001b[0;34m()\u001b[0m\n\u001b[1;32m     18\u001b[0m \u001b[0muser_entry\u001b[0m\u001b[0;34m=\u001b[0m\u001b[0;34m[\u001b[0m\u001b[0;34m[\u001b[0m\u001b[0mrooms\u001b[0m\u001b[0;34m,\u001b[0m\u001b[0mpeople\u001b[0m\u001b[0;34m,\u001b[0m\u001b[0mac\u001b[0m\u001b[0;34m,\u001b[0m\u001b[0mtv\u001b[0m\u001b[0;34m,\u001b[0m\u001b[0mflat\u001b[0m\u001b[0;34m,\u001b[0m\u001b[0mchild\u001b[0m\u001b[0;34m]\u001b[0m\u001b[0;34m]\u001b[0m\u001b[0;34m\u001b[0m\u001b[0;34m\u001b[0m\u001b[0m\n\u001b[1;32m     19\u001b[0m \u001b[0mfinal_pred\u001b[0m\u001b[0;34m=\u001b[0m\u001b[0mmodel\u001b[0m\u001b[0;34m.\u001b[0m\u001b[0mpredict\u001b[0m\u001b[0;34m(\u001b[0m\u001b[0muser_entry\u001b[0m\u001b[0;34m)\u001b[0m\u001b[0;34m\u001b[0m\u001b[0;34m\u001b[0m\u001b[0m\n\u001b[0;32m---> 20\u001b[0;31m \u001b[0maccuracy\u001b[0m \u001b[0;34m=\u001b[0m \u001b[0maccuracy_score\u001b[0m\u001b[0;34m(\u001b[0m\u001b[0my_test\u001b[0m\u001b[0;34m,\u001b[0m \u001b[0mfinal_pred\u001b[0m\u001b[0;34m)\u001b[0m\u001b[0;34m\u001b[0m\u001b[0;34m\u001b[0m\u001b[0m\n\u001b[0m\u001b[1;32m     21\u001b[0m \u001b[0mprint\u001b[0m\u001b[0;34m(\u001b[0m\u001b[0;34mf'Accuracy: {accuracy * 100:.2f}%'\u001b[0m\u001b[0;34m)\u001b[0m\u001b[0;34m\u001b[0m\u001b[0;34m\u001b[0m\u001b[0m\n\u001b[1;32m     22\u001b[0m \u001b[0mprint\u001b[0m\u001b[0;34m(\u001b[0m\u001b[0mfinal_pred\u001b[0m\u001b[0;34m)\u001b[0m\u001b[0;34m\u001b[0m\u001b[0;34m\u001b[0m\u001b[0m\n",
            "\u001b[0;32m/usr/local/lib/python3.10/dist-packages/sklearn/utils/_param_validation.py\u001b[0m in \u001b[0;36mwrapper\u001b[0;34m(*args, **kwargs)\u001b[0m\n\u001b[1;32m    211\u001b[0m                     )\n\u001b[1;32m    212\u001b[0m                 ):\n\u001b[0;32m--> 213\u001b[0;31m                     \u001b[0;32mreturn\u001b[0m \u001b[0mfunc\u001b[0m\u001b[0;34m(\u001b[0m\u001b[0;34m*\u001b[0m\u001b[0margs\u001b[0m\u001b[0;34m,\u001b[0m \u001b[0;34m**\u001b[0m\u001b[0mkwargs\u001b[0m\u001b[0;34m)\u001b[0m\u001b[0;34m\u001b[0m\u001b[0;34m\u001b[0m\u001b[0m\n\u001b[0m\u001b[1;32m    214\u001b[0m             \u001b[0;32mexcept\u001b[0m \u001b[0mInvalidParameterError\u001b[0m \u001b[0;32mas\u001b[0m \u001b[0me\u001b[0m\u001b[0;34m:\u001b[0m\u001b[0;34m\u001b[0m\u001b[0;34m\u001b[0m\u001b[0m\n\u001b[1;32m    215\u001b[0m                 \u001b[0;31m# When the function is just a wrapper around an estimator, we allow\u001b[0m\u001b[0;34m\u001b[0m\u001b[0;34m\u001b[0m\u001b[0m\n",
            "\u001b[0;32m/usr/local/lib/python3.10/dist-packages/sklearn/metrics/_classification.py\u001b[0m in \u001b[0;36maccuracy_score\u001b[0;34m(y_true, y_pred, normalize, sample_weight)\u001b[0m\n\u001b[1;32m    229\u001b[0m     \u001b[0mxp\u001b[0m\u001b[0;34m,\u001b[0m \u001b[0m_\u001b[0m\u001b[0;34m,\u001b[0m \u001b[0mdevice\u001b[0m \u001b[0;34m=\u001b[0m \u001b[0mget_namespace_and_device\u001b[0m\u001b[0;34m(\u001b[0m\u001b[0my_true\u001b[0m\u001b[0;34m,\u001b[0m \u001b[0my_pred\u001b[0m\u001b[0;34m,\u001b[0m \u001b[0msample_weight\u001b[0m\u001b[0;34m)\u001b[0m\u001b[0;34m\u001b[0m\u001b[0;34m\u001b[0m\u001b[0m\n\u001b[1;32m    230\u001b[0m     \u001b[0;31m# Compute accuracy for each possible representation\u001b[0m\u001b[0;34m\u001b[0m\u001b[0;34m\u001b[0m\u001b[0m\n\u001b[0;32m--> 231\u001b[0;31m     \u001b[0my_type\u001b[0m\u001b[0;34m,\u001b[0m \u001b[0my_true\u001b[0m\u001b[0;34m,\u001b[0m \u001b[0my_pred\u001b[0m \u001b[0;34m=\u001b[0m \u001b[0m_check_targets\u001b[0m\u001b[0;34m(\u001b[0m\u001b[0my_true\u001b[0m\u001b[0;34m,\u001b[0m \u001b[0my_pred\u001b[0m\u001b[0;34m)\u001b[0m\u001b[0;34m\u001b[0m\u001b[0;34m\u001b[0m\u001b[0m\n\u001b[0m\u001b[1;32m    232\u001b[0m     \u001b[0mcheck_consistent_length\u001b[0m\u001b[0;34m(\u001b[0m\u001b[0my_true\u001b[0m\u001b[0;34m,\u001b[0m \u001b[0my_pred\u001b[0m\u001b[0;34m,\u001b[0m \u001b[0msample_weight\u001b[0m\u001b[0;34m)\u001b[0m\u001b[0;34m\u001b[0m\u001b[0;34m\u001b[0m\u001b[0m\n\u001b[1;32m    233\u001b[0m     \u001b[0;32mif\u001b[0m \u001b[0my_type\u001b[0m\u001b[0;34m.\u001b[0m\u001b[0mstartswith\u001b[0m\u001b[0;34m(\u001b[0m\u001b[0;34m\"multilabel\"\u001b[0m\u001b[0;34m)\u001b[0m\u001b[0;34m:\u001b[0m\u001b[0;34m\u001b[0m\u001b[0;34m\u001b[0m\u001b[0m\n",
            "\u001b[0;32m/usr/local/lib/python3.10/dist-packages/sklearn/metrics/_classification.py\u001b[0m in \u001b[0;36m_check_targets\u001b[0;34m(y_true, y_pred)\u001b[0m\n\u001b[1;32m    101\u001b[0m     \"\"\"\n\u001b[1;32m    102\u001b[0m     \u001b[0mxp\u001b[0m\u001b[0;34m,\u001b[0m \u001b[0m_\u001b[0m \u001b[0;34m=\u001b[0m \u001b[0mget_namespace\u001b[0m\u001b[0;34m(\u001b[0m\u001b[0my_true\u001b[0m\u001b[0;34m,\u001b[0m \u001b[0my_pred\u001b[0m\u001b[0;34m)\u001b[0m\u001b[0;34m\u001b[0m\u001b[0;34m\u001b[0m\u001b[0m\n\u001b[0;32m--> 103\u001b[0;31m     \u001b[0mcheck_consistent_length\u001b[0m\u001b[0;34m(\u001b[0m\u001b[0my_true\u001b[0m\u001b[0;34m,\u001b[0m \u001b[0my_pred\u001b[0m\u001b[0;34m)\u001b[0m\u001b[0;34m\u001b[0m\u001b[0;34m\u001b[0m\u001b[0m\n\u001b[0m\u001b[1;32m    104\u001b[0m     \u001b[0mtype_true\u001b[0m \u001b[0;34m=\u001b[0m \u001b[0mtype_of_target\u001b[0m\u001b[0;34m(\u001b[0m\u001b[0my_true\u001b[0m\u001b[0;34m,\u001b[0m \u001b[0minput_name\u001b[0m\u001b[0;34m=\u001b[0m\u001b[0;34m\"y_true\"\u001b[0m\u001b[0;34m)\u001b[0m\u001b[0;34m\u001b[0m\u001b[0;34m\u001b[0m\u001b[0m\n\u001b[1;32m    105\u001b[0m     \u001b[0mtype_pred\u001b[0m \u001b[0;34m=\u001b[0m \u001b[0mtype_of_target\u001b[0m\u001b[0;34m(\u001b[0m\u001b[0my_pred\u001b[0m\u001b[0;34m,\u001b[0m \u001b[0minput_name\u001b[0m\u001b[0;34m=\u001b[0m\u001b[0;34m\"y_pred\"\u001b[0m\u001b[0;34m)\u001b[0m\u001b[0;34m\u001b[0m\u001b[0;34m\u001b[0m\u001b[0m\n",
            "\u001b[0;32m/usr/local/lib/python3.10/dist-packages/sklearn/utils/validation.py\u001b[0m in \u001b[0;36mcheck_consistent_length\u001b[0;34m(*arrays)\u001b[0m\n\u001b[1;32m    455\u001b[0m     \u001b[0muniques\u001b[0m \u001b[0;34m=\u001b[0m \u001b[0mnp\u001b[0m\u001b[0;34m.\u001b[0m\u001b[0munique\u001b[0m\u001b[0;34m(\u001b[0m\u001b[0mlengths\u001b[0m\u001b[0;34m)\u001b[0m\u001b[0;34m\u001b[0m\u001b[0;34m\u001b[0m\u001b[0m\n\u001b[1;32m    456\u001b[0m     \u001b[0;32mif\u001b[0m \u001b[0mlen\u001b[0m\u001b[0;34m(\u001b[0m\u001b[0muniques\u001b[0m\u001b[0;34m)\u001b[0m \u001b[0;34m>\u001b[0m \u001b[0;36m1\u001b[0m\u001b[0;34m:\u001b[0m\u001b[0;34m\u001b[0m\u001b[0;34m\u001b[0m\u001b[0m\n\u001b[0;32m--> 457\u001b[0;31m         raise ValueError(\n\u001b[0m\u001b[1;32m    458\u001b[0m             \u001b[0;34m\"Found input variables with inconsistent numbers of samples: %r\"\u001b[0m\u001b[0;34m\u001b[0m\u001b[0;34m\u001b[0m\u001b[0m\n\u001b[1;32m    459\u001b[0m             \u001b[0;34m%\u001b[0m \u001b[0;34m[\u001b[0m\u001b[0mint\u001b[0m\u001b[0;34m(\u001b[0m\u001b[0ml\u001b[0m\u001b[0;34m)\u001b[0m \u001b[0;32mfor\u001b[0m \u001b[0ml\u001b[0m \u001b[0;32min\u001b[0m \u001b[0mlengths\u001b[0m\u001b[0;34m]\u001b[0m\u001b[0;34m\u001b[0m\u001b[0;34m\u001b[0m\u001b[0m\n",
            "\u001b[0;31mValueError\u001b[0m: Found input variables with inconsistent numbers of samples: [200, 1]"
          ]
        }
      ]
    },
    {
      "cell_type": "code",
      "source": [
        "# print(data_set.columns)"
      ],
      "metadata": {
        "colab": {
          "base_uri": "https://localhost:8080/"
        },
        "id": "S2M5_Pd5WLxe",
        "outputId": "df42309f-9383-41a6-eda4-b4026f59d4b5"
      },
      "execution_count": null,
      "outputs": [
        {
          "output_type": "stream",
          "name": "stdout",
          "text": [
            "Index(['num_rooms', 'num_people', 'is_ac', 'is_tv', 'is_flat', 'num_children',\n",
            "       'amount_paid'],\n",
            "      dtype='object')\n"
          ]
        }
      ]
    },
    {
      "cell_type": "code",
      "source": [
        "import pandas as pd\n",
        "from sklearn.model_selection import train_test_split\n",
        "from sklearn.linear_model import LinearRegression\n",
        "from sklearn.metrics import r2_score, mean_squared_error\n",
        "\n",
        "# Load and split data\n",
        "data_set = pd.read_csv('Household energy bill data.csv', usecols=['num_rooms', 'num_people', 'is_ac','is_tv','is_flat','num_children','amount_paid'])\n",
        "X = data_set[['num_rooms', 'num_people', 'is_ac', 'is_tv', 'is_flat', 'num_children']]\n",
        "y = data_set['amount_paid']\n",
        "X_train, X_test, y_train, y_test = train_test_split(X, y, test_size=0.2)\n",
        "\n",
        "# Train model\n",
        "model = LinearRegression().fit(X_train, y_train)\n",
        "y_pred = model.predict(X_test)\n",
        "\n",
        "# Evaluate the model\n",
        "r2 = r2_score(y_test, y_pred)\n",
        "mse = mean_squared_error(y_test, y_pred)\n",
        "print(f'R-squared: {r2:.2f}')\n",
        "print(f'Mean Squared Error: {mse:.2f}')\n",
        "\n",
        "# Input for prediction\n",
        "rooms = int(input(\"Enter total rooms in your house: \"))\n",
        "people = int(input(\"Enter total number of family members: \"))\n",
        "ac = int(input(\"Is there any AC in your home? (1 for Yes, 0 for No): \"))\n",
        "tv = int(input(\"Is there any television present in your home? (1 for Yes, 0 for No): \"))\n",
        "flat = int(input(\"Do you live in a flat? (1 for Yes, 0 for No): \"))\n",
        "child = int(input(\"Enter total number of children: \"))\n",
        "user_entry = [[rooms, people, ac, tv, flat, child]]\n",
        "final_pred = model.predict(user_entry)\n",
        "\n",
        "# Display prediction\n",
        "print(f'Predicted amount paid: {final_pred[0]:.2f}')"
      ],
      "metadata": {
        "colab": {
          "base_uri": "https://localhost:8080/"
        },
        "id": "88XKvOg3Ww9x",
        "outputId": "f00f8b02-23be-4d61-c293-97697592eac3"
      },
      "execution_count": 1,
      "outputs": [
        {
          "output_type": "stream",
          "name": "stdout",
          "text": [
            "R-squared: 0.46\n",
            "Mean Squared Error: 19520.47\n",
            "Enter total rooms in your house: 3\n",
            "Enter total number of family members: 2\n",
            "Is there any AC in your home? (1 for Yes, 0 for No): 1\n",
            "Is there any television present in your home? (1 for Yes, 0 for No): 1\n",
            "Do you live in a flat? (1 for Yes, 0 for No): 1\n",
            "Enter total number of children: 0\n",
            "Predicted amount paid: 638.58\n"
          ]
        },
        {
          "output_type": "stream",
          "name": "stderr",
          "text": [
            "/usr/local/lib/python3.10/dist-packages/sklearn/base.py:493: UserWarning: X does not have valid feature names, but LinearRegression was fitted with feature names\n",
            "  warnings.warn(\n"
          ]
        }
      ]
    },
    {
      "cell_type": "code",
      "source": [],
      "metadata": {
        "id": "xCl4L4e-9ot8"
      },
      "execution_count": null,
      "outputs": []
    }
  ]
}